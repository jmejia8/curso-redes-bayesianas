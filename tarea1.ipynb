{
 "cells": [
  {
   "cell_type": "markdown",
   "metadata": {},
   "source": [
    "# Tarea 1: Revisión de Creencias\n",
    "\n",
    "\n",
    "Dada la siguiente tabla:\n",
    "\n",
    "\n",
    "| row | $x_1$    | $x_2$    | $x_3$    | $P(x_1, x_2, x_3)$       |\n",
    "| --- | | --- | | --- | | --- | | --- |\n",
    "| 1   | 0     | 0     | 0     | 0.238   |\n",
    "| 2   | 0     | 0     | 1     | 0.042   |\n",
    "| 3   | 0     | 1     | 0     | 0.012   |\n",
    "| 4   | 0     | 1     | 1     | 0.108   |\n",
    "| 5   | 1     | 0     | 0     | 0.102   |\n",
    "| 6   | 1     | 0     | 1     | 0.018   |\n",
    "| 7   | 1     | 1     | 0     | 0.048   |\n",
    "| 8   | 1     | 1     | 1     | 0.432   |\n",
    "\n",
    "Calcular:\n",
    "$$\n",
    "\\arg\\max_{x_1, x_2} P(x_1, x_2 | x_3 = 1)\n",
    "$$\n",
    "\n",
    "## Solución:\n",
    "\n",
    "Sabemos que:\n",
    "\n",
    "\\begin{align}\n",
    "    P(x_1, x_2 | x_3 = 1) &= \\dfrac{P(x_1, x_2, x_3 = 1) }{P(x_3=1)} \\\\\n",
    "    &=  P(x_1, x_2, x_3 = 1)  \\left/ \\left(  \\sum_{x_1=0}^1 \\sum_{x_2 = 0}^1 P(x_1, x_2, x_3 = 1) \\right. \\right) \\\\\n",
    "    &=  \\dfrac{P(x_1, x_2, x_3 = 1)}{0.6} \n",
    "\\end{align}"
   ]
  },
  {
   "cell_type": "code",
   "execution_count": 23,
   "metadata": {},
   "outputs": [
    {
     "data": {
      "text/plain": [
       "argmax (generic function with 1 method)"
      ]
     },
     "execution_count": 23,
     "metadata": {},
     "output_type": "execute_result"
    }
   ],
   "source": [
    "using DataFrames\n",
    "include(\"utils.jl\")"
   ]
  },
  {
   "cell_type": "code",
   "execution_count": 24,
   "metadata": {},
   "outputs": [
    {
     "data": {
      "text/plain": [
       "p (generic function with 1 method)"
      ]
     },
     "execution_count": 24,
     "metadata": {},
     "output_type": "execute_result"
    }
   ],
   "source": [
    "p(x1, x2) = Pr(x1,x2,1) / Pr(:all,:all,1)"
   ]
  },
  {
   "cell_type": "code",
   "execution_count": 25,
   "metadata": {},
   "outputs": [
    {
     "name": "stdout",
     "output_type": "stream",
     "text": [
      "P(0, 0) = 0.07\n",
      "P(0, 1) = 0.18\n",
      "P(1, 0) = 0.03\n",
      "P(1, 1) = 0.72\n",
      ">>> P(1, 1) = 0.72\n"
     ]
    }
   ],
   "source": [
    "argmax(p)"
   ]
  },
  {
   "cell_type": "markdown",
   "metadata": {},
   "source": [
    "Así, $x_1 = 1$ y $x_2 = 1$:\n",
    "\n",
    "$$\n",
    "\\arg\\max_{x_1, x_2} P(x_1, x_2 | x_3 = 1) = \\{ (1, 1) \\}\n",
    "$$"
   ]
  },
  {
   "cell_type": "code",
   "execution_count": null,
   "metadata": {},
   "outputs": [],
   "source": []
  }
 ],
 "metadata": {
  "@webio": {
   "lastCommId": null,
   "lastKernelId": null
  },
  "kernelspec": {
   "display_name": "Julia 1.1.0",
   "language": "julia",
   "name": "julia-1.1"
  },
  "language_info": {
   "file_extension": ".jl",
   "mimetype": "application/julia",
   "name": "julia",
   "version": "1.1.0"
  }
 },
 "nbformat": 4,
 "nbformat_minor": 2
}
